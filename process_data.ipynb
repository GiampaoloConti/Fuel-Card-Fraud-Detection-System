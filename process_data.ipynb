{
 "cells": [
  {
   "cell_type": "code",
   "execution_count": 1,
   "id": "6d08f3d6-0bc5-495c-8575-2caa9f53dbef",
   "metadata": {
    "tags": []
   },
   "outputs": [],
   "source": [
    "import pandas as pd\n",
    "\n",
    "vehicles_df = pd.read_csv('vehicles.csv')\n",
    "cards_df = pd.read_csv('cards.csv')\n",
    "employees_df = pd.read_csv('employees.csv')\n",
    "transactions_df = pd.read_csv('transactions.csv')"
   ]
  },
  {
   "cell_type": "code",
   "execution_count": 2,
   "id": "a5884b33-800b-426e-9040-f43862abb0b7",
   "metadata": {
    "tags": []
   },
   "outputs": [
    {
     "data": {
      "text/plain": [
       "20"
      ]
     },
     "execution_count": 2,
     "metadata": {},
     "output_type": "execute_result"
    }
   ],
   "source": [
    "vehicles_df['vehicle_id'].count()"
   ]
  },
  {
   "cell_type": "code",
   "execution_count": 3,
   "id": "36a39886-63bb-4df4-8a26-6e676208fb9b",
   "metadata": {
    "tags": []
   },
   "outputs": [
    {
     "data": {
      "text/plain": [
       "20"
      ]
     },
     "execution_count": 3,
     "metadata": {},
     "output_type": "execute_result"
    }
   ],
   "source": [
    "cards_df['card_id'].count()"
   ]
  },
  {
   "cell_type": "code",
   "execution_count": 4,
   "id": "60bef195-bdec-44a9-b023-66cd0662edba",
   "metadata": {
    "tags": []
   },
   "outputs": [
    {
     "data": {
      "text/plain": [
       "20"
      ]
     },
     "execution_count": 4,
     "metadata": {},
     "output_type": "execute_result"
    }
   ],
   "source": [
    "employees_df['employee_id'].count()"
   ]
  },
  {
   "cell_type": "code",
   "execution_count": 5,
   "id": "86d66f8d-9613-4fbf-a2e0-b9fc7388edab",
   "metadata": {
    "tags": []
   },
   "outputs": [
    {
     "data": {
      "text/plain": [
       "20000"
      ]
     },
     "execution_count": 5,
     "metadata": {},
     "output_type": "execute_result"
    }
   ],
   "source": [
    "transactions_df['transaction_id'].count()"
   ]
  },
  {
   "cell_type": "code",
   "execution_count": 6,
   "id": "7c3beeb0-cc47-40d1-b4e4-9338c2986772",
   "metadata": {
    "tags": []
   },
   "outputs": [],
   "source": [
    "from math import radians, sin, cos, sqrt, atan2\n",
    "\n",
    "def haversine(lat1, lon1, lat2, lon2):\n",
    "    R = 6371.0\n",
    "\n",
    "    lat1, lon1, lat2, lon2 = map(radians, [lat1, lon1, lat2, lon2])\n",
    "\n",
    "    dlat = lat2 - lat1\n",
    "    dlon = lon2 - lon1\n",
    "\n",
    "    a = sin(dlat / 2)**2 + cos(lat1) * cos(lat2) * sin(dlon / 2)**2\n",
    "    c = 2 * atan2(sqrt(a), sqrt(1 - a))\n",
    "\n",
    "    distance = R * c\n",
    "    return distance\n",
    "\n",
    "\n",
    "def calculate_fuel_bought(transaction, vehicle):\n",
    "    discount, surcharge = 0,0\n",
    "    \n",
    "    amount_spent = transaction['amount']\n",
    "    fuel_price = transaction['fuel_price']\n",
    "    erogation_type = transaction['erogation_type']\n",
    "\n",
    "    fuel_bought = amount_spent / fuel_price\n",
    "\n",
    "    if erogation_type == 'self':\n",
    "        discount = -0.02\n",
    "    elif erogation_type == 'service':\n",
    "        surcharge = 0.03\n",
    "        \n",
    "    fuel_bought /= (1 + surcharge + discount)\n",
    "\n",
    "    return fuel_bought # liters\n",
    "\n",
    "def calculate_fuel_consumed(distance_taken, avg_fuel_consumption):\n",
    " \n",
    "    fuel_consumed = distance_taken * avg_fuel_consumption\n",
    "    \n",
    "    return fuel_consumed\n"
   ]
  },
  {
   "cell_type": "code",
   "execution_count": 8,
   "id": "5d1ad684-43ce-464b-85c5-6afeb6c6dca7",
   "metadata": {
    "tags": []
   },
   "outputs": [],
   "source": [
    "processed_matrix = []\n",
    "\n",
    "for index, transaction in transactions_df.iterrows():\n",
    "    card = cards_df[cards_df['card_id'] == transaction['card_id']]\n",
    "    if not card.empty:\n",
    "        card_id = card['card_id'].iloc[0]\n",
    "        \n",
    "        employee = employees_df[employees_df['card_id'] == card_id]\n",
    "        if not employee.empty:\n",
    "            employee = employee.iloc[0] \n",
    "            \n",
    "            vehicle = vehicles_df[vehicles_df['vehicle_id'] == employee['vehicle_id']]\n",
    "            if not vehicle.empty:\n",
    "                vehicle = vehicle.iloc[0]\n",
    "                \n",
    "                distance_taken = haversine(vehicle.latitude_vehicle, vehicle.longitude_vehicle, transaction.latitude, transaction.longitude) # Km\n",
    "                trans_amount = transaction.amount\n",
    "                max_card_amount = card.max_amount.iloc[0] \n",
    "                remaining_amount = card.remaining_amount.iloc[0] \n",
    "                fuel_bought = calculate_fuel_bought(transaction, vehicle)\n",
    "                fuel_consumed = calculate_fuel_consumed(distance_taken, vehicle.avg_fuel_consumption)\n",
    "                empl_affidability = employee.affidability\n",
    "                delta_time = pd.to_datetime(transaction.time) - pd.to_datetime(card.last_transaction.iloc[0] )\n",
    "                vehicle_capacity = vehicle.max_capacity\n",
    "                processed_data = {\n",
    "   \n",
    "                    'distance_taken' : distance_taken,\n",
    "                    'trans_amount' : trans_amount,\n",
    "                    'max_card_amount' : max_card_amount,\n",
    "                    'remaining_amount': remaining_amount,\n",
    "                    'fuel_bought': fuel_bought,\n",
    "                    'empl_affidability': empl_affidability,\n",
    "                    'vehicle_max_capacity': vehicle_capacity,\n",
    "                    'fuel_consumed' : fuel_consumed,\n",
    "                    'delta_time':  delta_time\n",
    "\n",
    "                }\n",
    "                \n",
    "                processed_matrix.append(processed_data)\n",
    "                \n",
    "                \n",
    "processed_df = pd.DataFrame(processed_matrix)\n",
    "\n",
    "processed_df = processed_df[processed_df['delta_time'] >= pd.Timedelta(0)]\n"
   ]
  },
  {
   "cell_type": "code",
   "execution_count": 9,
   "id": "4ae1be82-44a1-4adf-9df8-6b249caafd50",
   "metadata": {
    "tags": []
   },
   "outputs": [
    {
     "name": "stdout",
     "output_type": "stream",
     "text": [
      "Data saved to processed_transactions.csv\n"
     ]
    }
   ],
   "source": [
    "for index, element in processed_df.iterrows():\n",
    "    if ((float(element['trans_amount']) > float(element['remaining_amount']))\n",
    "        or (element['delta_time'] < pd.Timedelta(0))\n",
    "        or (float(element['fuel_bought']) > float(element['vehicle_max_capacity']))):\n",
    "        \n",
    "        processed_df.at[index, 'label'] = 1\n",
    "    else: \n",
    "        processed_df.at[index, 'label'] = 0\n",
    "\n",
    "        \n",
    "processed_df.to_csv('processed_transactions.csv', index=False)\n",
    "\n",
    "print(\"Data saved to processed_transactions.csv\")\n"
   ]
  },
  {
   "cell_type": "code",
   "execution_count": 11,
   "id": "98deb3f2-6d20-4d0f-83cc-c2decdb3f33e",
   "metadata": {
    "tags": []
   },
   "outputs": [
    {
     "name": "stdout",
     "output_type": "stream",
     "text": [
      "3025\n"
     ]
    }
   ],
   "source": [
    "i = 0\n",
    "for index, element in processed_df.iterrows():\n",
    "    if ((float(element['empl_affidability']) <= 0.1)\n",
    "        and (element['delta_time'] < pd.Timedelta(days=1))):\n",
    "        i += 1\n",
    "        processed_df.at[index, 'label'] = 1\n",
    "        \n",
    "processed_df.to_csv('processed_transactions.csv', index=False)\n",
    "\n",
    "print(i)\n"
   ]
  },
  {
   "cell_type": "code",
   "execution_count": 12,
   "id": "ef3c46e6-128b-4051-abde-245149111087",
   "metadata": {},
   "outputs": [
    {
     "name": "stdout",
     "output_type": "stream",
     "text": [
      "Assigned random fraud labels to 2000 rows.\n"
     ]
    }
   ],
   "source": [
    "import numpy as np\n",
    "import pandas as pd\n",
    "\n",
    "# Load the dataset\n",
    "data = pd.read_csv('processed_transactions.csv')\n",
    "\n",
    "# Set a percentage of rows to randomly assign as fraud (label 1)\n",
    "random_fraud_percentage = 0.1  # e.g., 5% of data as random fraud\n",
    "num_random_frauds = int(len(data) * random_fraud_percentage)\n",
    "\n",
    "# Randomly select indices for random fraud cases\n",
    "random_fraud_indices = np.random.choice(data.index, size=num_random_frauds, replace=False)\n",
    "\n",
    "# Assign label 1 to these randomly selected indices\n",
    "data.loc[random_fraud_indices, 'label'] = 1\n",
    "\n",
    "# Save the modified dataset if needed\n",
    "data.to_csv('processed_transactions_with_random_frauds.csv', index=False)\n",
    "\n",
    "print(f\"Assigned random fraud labels to {num_random_frauds} rows.\")\n"
   ]
  },
  {
   "cell_type": "code",
   "execution_count": null,
   "id": "6488b753-ee22-4622-a84b-3f28be937695",
   "metadata": {},
   "outputs": [],
   "source": []
  }
 ],
 "metadata": {
  "kernelspec": {
   "display_name": "Python 3",
   "language": "python",
   "name": "python3"
  },
  "language_info": {
   "codemirror_mode": {
    "name": "ipython",
    "version": 3
   },
   "file_extension": ".py",
   "mimetype": "text/x-python",
   "name": "python",
   "nbconvert_exporter": "python",
   "pygments_lexer": "ipython3",
   "version": "3.12.0"
  }
 },
 "nbformat": 4,
 "nbformat_minor": 5
}
